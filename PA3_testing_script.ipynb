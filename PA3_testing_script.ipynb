{
 "cells": [
  {
   "cell_type": "code",
   "execution_count": null,
   "metadata": {
    "collapsed": true
   },
   "outputs": [],
   "source": [
    "import numpy as np\n",
    "import json\n",
    "import time\n",
    "from data_process import Dataset\n",
    "from util import accuracy\n",
    "from tagger import model_training, sentence_tagging"
   ]
  },
  {
   "cell_type": "code",
   "execution_count": null,
   "metadata": {
    "collapsed": true
   },
   "outputs": [],
   "source": [
    "# load data\n",
    "with open('hmm_model.json', 'r') as f:\n",
    "    data = json.load(f)\n",
    "A = np.array(data['A'])\n",
    "B = np.array(data['B'])\n",
    "pi = np.array(data['pi'])\n",
    "# observation symbols\n",
    "obs_dict = data['observations']\n",
    "# state symbols\n",
    "state_dict = dict()\n",
    "for idx, item in enumerate(data['states']):\n",
    "    state_dict[item] = idx\n",
    "Osequence = np.array(data['Osequence'])\n",
    "N = len(Osequence)\n"
   ]
  },
  {
   "cell_type": "code",
   "execution_count": null,
   "metadata": {
    "collapsed": true
   },
   "outputs": [],
   "source": [
    "print(states_symbols)\n",
    "reversed_states_symbols = {value : key for (key, value) in states_symbols.items()}\n",
    "print(reversed_states_symbols)\n",
    "print(reversed_states_symbols[1])"
   ]
  },
  {
   "cell_type": "code",
   "execution_count": null,
   "metadata": {
    "collapsed": true
   },
   "outputs": [],
   "source": [
    "key_state_dict = list(states_symbols.keys())\n",
    "val_state_dict = list(states_symbols.values())\n",
    "print(key_state_dict)\n",
    "print(val_state_dict)"
   ]
  },
  {
   "cell_type": "code",
   "execution_count": null,
   "metadata": {
    "collapsed": true
   },
   "outputs": [],
   "source": [
    "print(obs_dict)\n",
    "print(Osequence[0])\n",
    "print(obs_dict[Osequence[0]])\n",
    "print(B)\n",
    "print(B[:, obs_dict[Osequence[0]]])"
   ]
  },
  {
   "cell_type": "code",
   "execution_count": null,
   "metadata": {
    "collapsed": true
   },
   "outputs": [],
   "source": [
    "obs_dict['A'] += 1\n",
    "print(obs_dict['A'])"
   ]
  },
  {
   "cell_type": "code",
   "execution_count": null,
   "metadata": {
    "collapsed": true
   },
   "outputs": [],
   "source": [
    "delta = pi * B[:, obs_dict[Osequence[0]]]\n",
    "print(pi)\n",
    "print(B[:, obs_dict[Osequence[0]]])\n",
    "print(delta)"
   ]
  },
  {
   "cell_type": "code",
   "execution_count": null,
   "metadata": {
    "collapsed": true
   },
   "outputs": [],
   "source": [
    "path = []\n",
    "S = len(pi)\n",
    "L = len(Osequence)\n",
    "delta = np.zeros(shape = (S, L), dtype = 'float')\n",
    "delta_table = np.zeros(shape = (S, L-1), dtype = 'int')\n",
    "print(delta_table)\n",
    "###################################################\n",
    "# Initialize delta for each state (this is an array with length S)\n",
    "# self.B[self.obs_dict[Osequence[0]]] =\n",
    "delta[:,0] = pi * B[:, obs_dict[Osequence[0]]]\n",
    "print(f'initial delta: ')\n",
    "print(delta)\n",
    "\n",
    "# loop through time steps (t)\n",
    "for t in range(1, L):\n",
    "    # loop through states\n",
    "    for i in range(S):\n",
    "        # find and store max\n",
    "        # loop through previous states (s')\n",
    "        local_max = 0\n",
    "        print(f'------- t, s = ',t+1,\",\", i,\" -------\")\n",
    "        for j in range(S):\n",
    "            print(f'delta used for current max calc: ', delta[j, t-1])\n",
    "            current_max = A[j, i] * delta[j, t-1]\n",
    "            \n",
    "            ######################################\n",
    "            # test prints\n",
    "            print(f'current max for t, s, s\\' = ',t+1,i,j,\": \", current_max)\n",
    "            ######################################\n",
    "            \n",
    "            if current_max > local_max:\n",
    "                local_max = current_max\n",
    "                delta_table[i, t-1] = j\n",
    "                print(f'-> max updated for t, s, s\\' = ' ,t+1,i,j,', local max = ',local_max)\n",
    "        #print(f'max updated for t, s, s\\' =' ,t,i,j,'local max = ',local_max)\n",
    "        delta[i, t] = B[i, obs_dict[Osequence[t]]] * local_max\n",
    "        print(f'b_s,Ot = ', B[i, obs_dict[Osequence[t]]])\n",
    "        print(f'local max = ', local_max)\n",
    "        print(f'delta = ')\n",
    "        print(delta)\n",
    "        print(f'delta_table: ')\n",
    "        print(delta_table)\n",
    "        \n",
    "print(f'delta(T) = ', delta)\n",
    "print(f'# time steps = ', L)\n",
    "print(f'observed sequence: ', Osequence)\n",
    "print(f'delta table:') \n",
    "print(delta_table)"
   ]
  },
  {
   "cell_type": "code",
   "execution_count": null,
   "metadata": {
    "collapsed": true
   },
   "outputs": [],
   "source": [
    "path = []\n",
    "path.append(np.argmax(delta[:,-1]))\n",
    "print(path)\n"
   ]
  },
  {
   "cell_type": "code",
   "execution_count": null,
   "metadata": {
    "collapsed": true
   },
   "outputs": [],
   "source": [
    "for t in range(L-1, 0, -1):\n",
    "    path.append(delta_table[path[len(path)-1] ,t-1])\n",
    "    print(path)\n",
    "path.reverse()\n",
    "print(path)\n",
    "print(path[0])"
   ]
  },
  {
   "cell_type": "code",
   "execution_count": null,
   "metadata": {
    "collapsed": true
   },
   "outputs": [],
   "source": [
    "for i in range(0, len(path)):\n",
    "    for key, value in state_dict.items():\n",
    "        if value == path[i]:\n",
    "            path[i] = key\n",
    "print(path)"
   ]
  },
  {
   "cell_type": "code",
   "execution_count": null,
   "metadata": {
    "collapsed": true
   },
   "outputs": [],
   "source": [
    "path = []\n",
    "###################################################\n",
    "# Q3.3 Edit here\n",
    "###################################################\n",
    "\n",
    "# Initialize\n",
    "S = len(pi)\n",
    "L = len(Osequence)\n",
    "delta = np.zeros([S, L])\n",
    "delta_path = np.zeros([S, L], dtype=np.int32)\n",
    "for i in range(S):\n",
    "    delta[i,0] = pi[i] * B[i, obs_dict[Osequence[0]]]\n",
    "\n",
    "# recursive DP update\n",
    "for j in range(1,L):\n",
    "    for i in range(S):\n",
    "        s_prime = [A[k,i] * delta[k,j-1] for k in range(S)]\n",
    "        delta_path[i,j] = np.argmax(s_prime)\n",
    "        delta[i,j] = B[i, obs_dict[Osequence[j]]] * np.max(s_prime)\n",
    "        #print(f'local max = ', np.max(s_prime))\n",
    "        #print(f'delta: ')\n",
    "        #print(delta)\n",
    "\n",
    "print(delta_path)\n",
    "inv_map = {v: k for k, v in state_dict.items()}\n",
    "max_prob_id = int(np.argmax(delta[:,L-1]))\n",
    "path = [max_prob_id]\n",
    "print(path)\n",
    "for j in range(L-1,0,-1):\n",
    "    max_prob_id = delta_path[max_prob_id, j]\n",
    "    path.append(max_prob_id)\n",
    "    print(path)\n",
    "\n",
    "path = reversed(path)\n",
    "path = [inv_map[p] for p in path]\n",
    "\n",
    "print(path)"
   ]
  },
  {
   "cell_type": "code",
   "execution_count": null,
   "metadata": {},
   "outputs": [],
   "source": [
    "########################## TESTING ########################\n",
    "import numpy as np\n",
    "import json\n",
    "import time\n",
    "from data_process import Dataset\n",
    "from util import accuracy\n",
    "from tagger import model_training, sentence_tagging\n",
    "# SPEECH TAGGING TESTING\n",
    "st_time = time.time()\n",
    "data = Dataset(\"pos_tags.txt\", \"pos_sentences.txt\", train_test_split=0.8, seed=0)\n",
    "\n",
    "data.train_data = data.train_data[:100]\n",
    "\n",
    "data.test_data = data.test_data[:10]\n"
   ]
  },
  {
   "cell_type": "code",
   "execution_count": null,
   "metadata": {
    "collapsed": true
   },
   "outputs": [],
   "source": [
    "# TRAIN MODEL\n",
    "model = model_training(data.train_data, data.tags)\n",
    "test_data = data.test_data"
   ]
  },
  {
   "cell_type": "code",
   "execution_count": null,
   "metadata": {
    "collapsed": true
   },
   "outputs": [],
   "source": [
    "tagging = []\n",
    "S = len(model.pi)\n",
    "###################################################\n",
    "# loop through each line in data\n",
    "for i in range(len(test_data)):\n",
    "    # loop through each element\n",
    "    for j in range(test_data[i].length):\n",
    "        # update obs_dict and emissions if there is an unseen observation\n",
    "        if test_data[i].words[j] not in model.obs_dict.keys():\n",
    "            o_indx = len(model.obs_dict)\n",
    "            model.obs_dict[test_data[i].words[j]] = o_indx \n",
    "            new_column = np.full((S, 1), 10**-6)\n",
    "            model.B = np.append(model.B, new_column, axis = 1)\n",
    "            print(model.B.shape)"
   ]
  },
  {
   "cell_type": "code",
   "execution_count": null,
   "metadata": {
    "collapsed": true
   },
   "outputs": [],
   "source": [
    "\n",
    "Osequence = np.asarray(test_data[0].words)\n",
    "print(Osequence)\n",
    "print(model.B.shape)\n",
    "print(model.obs_dict[Osequence[0]])"
   ]
  },
  {
   "cell_type": "code",
   "execution_count": null,
   "metadata": {
    "collapsed": true
   },
   "outputs": [],
   "source": [
    "state_path = model.viterbi(Osequence)\n",
    "print(state_path)"
   ]
  },
  {
   "cell_type": "code",
   "execution_count": null,
   "metadata": {
    "collapsed": true
   },
   "outputs": [],
   "source": [
    "test1 = np.full((10,1), 10**-6)\n",
    "test2 = np.full((10,2), 1)\n",
    "print(test1)\n",
    "print(test2)\n",
    "test3= np.append(test2, test1, axis = 1)\n",
    "print(test3)\n",
    "print(test3.shape)"
   ]
  },
  {
   "cell_type": "code",
   "execution_count": null,
   "metadata": {
    "collapsed": true
   },
   "outputs": [],
   "source": [
    "tagging = sentence_tagging(data.test_data, model, data.tags)"
   ]
  },
  {
   "cell_type": "code",
   "execution_count": null,
   "metadata": {},
   "outputs": [],
   "source": [
    "### TESTING SENTENCE TAGGING ###\n",
    "\n",
    "tagging = sentence_tagging(data.test_data, model, data.tags)\n",
    "\n",
    "total_words = 0\n",
    "total_correct = 0\n",
    "for i in range(len(tagging)):\n",
    "    correct, words, accur = accuracy(tagging[i], data.test_data[i].tags)\n",
    "    total_words += words\n",
    "    total_correct += correct\n",
    "    print(\"accuracy: \", accur)\n",
    "\n",
    "print(\"Your total accuracy: \", total_correct*1.0/total_words)\n",
    "print(\"My total accuracy: \", 0.7761904761904762)\n",
    "\n",
    "en_time = time.time()\n",
    "print(\"sentence_tagging total time: \", en_time - st_time)"
   ]
  },
  {
   "cell_type": "code",
   "execution_count": null,
   "metadata": {
    "collapsed": true
   },
   "outputs": [],
   "source": [
    "obs_dict = {}\n",
    "obs_indx = 0 \n",
    "for i in range(L):\n",
    "    for j in range(train_data[i].length):\n",
    "        if train_data[i].words[j] not in obs_dict.keys():\n",
    "            obs_dict[train_data[i].words[j]] = obs_indx \n",
    "            obs_indx += 1\n",
    "\n",
    "B = np.zeros([S, len(obs_dict)])\n",
    "for i in range(len(train_data)):\n",
    "    # loop through each element\n",
    "    for j in range(train_data[i].length):\n",
    "        s_indx = state_dict[train_data[i].tags[j]]\n",
    "        o_indx = obs_dict[train_data[i].words[j]]\n",
    "        B[s_indx, o_indx] += 1\n",
    "# normalize each row of B to get emissions matrix\n",
    "sum_rows = B.sum(axis = 1)\n",
    "B = B / sum_rows[:, np.newaxis]\n",
    "\n",
    "print(len(obs_dict))\n",
    "pi = np.zeros(S)\n",
    "print(len(tags))\n",
    "print(pi)\n",
    "print(pi[0])\n",
    "print(pi[1])\n",
    "print(B)\n",
    "print(len(B[:,1]))\n",
    "print(len(B[1,:]))"
   ]
  },
  {
   "cell_type": "code",
   "execution_count": null,
   "metadata": {
    "collapsed": true
   },
   "outputs": [],
   "source": [
    "tags = data.tags\n",
    "train_data = data.train_data\n",
    "pi = np.zeros(S)\n",
    "print(len(tags))\n",
    "print(pi)\n",
    "print(pi[0])\n",
    "print(pi[1])\n",
    "print(pi.size)\n",
    "print(len(train_data))\n",
    "pi[0] = 10\n",
    "print(pi[0])"
   ]
  },
  {
   "cell_type": "code",
   "execution_count": null,
   "metadata": {
    "collapsed": true
   },
   "outputs": [],
   "source": [
    "L = len(train_data)\n",
    "S = len(tags)\n",
    "###################################################\n",
    "### Calculate pi ###\n",
    "pi = np.zeros(S, dtype = 'float')\n",
    "state_counts = {i:0 for i in tags} # dictionary storing counts for each tag (state)\n",
    "for i in range(len(train_data)):\n",
    "    first_tag = train_data[i].tags[0] # first tag of each Line object\n",
    "    state_counts[first_tag] += 1 # increase count in dictionary\n",
    "    \n",
    "#print(state_counts)\n",
    "#print(tags)\n",
    "# add counts to pi array in same order as tags array\n",
    "for i in range(len(tags)):\n",
    "    print(pi)\n",
    "    pi[i] = state_counts[tags[i]]\n",
    "    \n",
    "# normalize by total to get probabilities\n",
    "pi = pi / len(train_data)\n",
    "    \n",
    "print(pi)"
   ]
  },
  {
   "cell_type": "code",
   "execution_count": null,
   "metadata": {
    "collapsed": true
   },
   "outputs": [],
   "source": []
  }
 ],
 "metadata": {
  "kernelspec": {
   "display_name": "Python 3",
   "language": "python",
   "name": "python3"
  },
  "language_info": {
   "codemirror_mode": {
    "name": "ipython",
    "version": 3
   },
   "file_extension": ".py",
   "mimetype": "text/x-python",
   "name": "python",
   "nbconvert_exporter": "python",
   "pygments_lexer": "ipython3",
   "version": "3.6.10"
  }
 },
 "nbformat": 4,
 "nbformat_minor": 2
}
